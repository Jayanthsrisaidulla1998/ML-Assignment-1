{
 "cells": [
  {
   "cell_type": "code",
   "execution_count": null,
   "id": "298cf4cd",
   "metadata": {},
   "outputs": [],
   "source": [
    "import statistics as st                                                                 \n",
    "ages = [19, 22, 19, 24, 20, 25, 26, 24, 25, 24]\n",
    "print(\"Given ages =\",ages)\n",
    "print(\"Sorted List ages =\",sorted(ages))                                        #Sorting the given list\n",
    "minimum_age=min(ages)\n",
    "print('min_age =',minimum_age)                                                  #Finding the minimum age\n",
    "maximum_age=max(ages)\n",
    "print('max_age =',maximum_age)                                                  #Finding the maximum age\n",
    "ages.append(minimum_age)\n",
    "ages.append(maximum_age)                                                        #addition of both max and min to same list  \n",
    "print('New List =',ages)\n",
    "median_age=st.median(ages)                                                      #Using statistics,finding Median\n",
    "print('Median age =',median_age)\n",
    "Average_age=st.mean(ages)                                                       #Finding the Mean/average\n",
    "print('Average age =',Average_age)\n",
    "Range_of_ages=max(ages)-min(ages)                                               #Finding the Range(Max-Min)\n",
    "print(\"Range of the ages =\",Range_of_ages)\n"
   ]
  },
  {
   "cell_type": "code",
   "execution_count": null,
   "id": "4efe3ad0",
   "metadata": {},
   "outputs": [],
   "source": [
    "dog={}                                                         #Creating an empty dictionary named dog\n",
    "dog['Name']='Pintu'\n",
    "dog['color']='Brown'\n",
    "dog['breed']='German Shepherd'\n",
    "dog['legs']='tall'\n",
    "dog['age']='3 years'                                           #Adding name, color, breed, legs, age to the dog dictionary\n",
    "print('Dog dictionary',dog)\n",
    "student=dict({  'first_name'      :'Jayanth Sri Sai',          #Creating a student dictionary\n",
    "                'last_name'       :'Dulla',\n",
    "                'gender'          :'Male',\n",
    "                'age'             :'25',                       #adding first_name, last_name, gender, age, marital status\n",
    "                'maritial status' :'Unmarried',                #adding skills, country, city and address for the dictionary\n",
    "                'skills'          :['Python', 'C'],\n",
    "                'country'         :'India',\n",
    "                'city'            :'Bhimavaram',\n",
    "                'address'         :'Bank colony'})\n",
    "print('Student dictionary',student)                            #printing the student dictionary\n",
    "l=len(student)                                                 #length of the stduent dictionary\n",
    "print('\\nlength of the student dictionary =',l)\n",
    "skills_value=student['skills']                                 #getting the value for skills key\n",
    "print('Value of skills =', skills_value)                         \n",
    "print(type(skills_value))                                      #checking the skills_value data type\n",
    "skills_value.append('Java')                                    #adding on skills to the dictionary values\n",
    "print('New Skills',skills_value)\n",
    "print('Dictionary keys :',list(student.keys()))                #printing the dictionary keys as list\n",
    "print('Dictionary values :',list(student.values()))            #printing the dictionary values as list"
   ]
  },
  {
   "cell_type": "code",
   "execution_count": null,
   "id": "ff28535e",
   "metadata": {},
   "outputs": [],
   "source": [
    "Brothers=('Yaswanth','Bunny','Vamsi')                           #Create a tuple of sisters and brothers \n",
    "Sisters=('Pragna','Yamini')\n",
    "siblings=Brothers+Sisters                                       #Joining brothers and sisters to siblings\n",
    "print('Siblings:',siblings)\n",
    "length=len(siblings)                                            #Number of siblings\n",
    "print('Number of siblings:',length)\n",
    "siblings=list(siblings)                                         #converting tuple to list to add father and mother to list\n",
    "siblings.append('Satyanarayana')\n",
    "siblings.append('Durga Bhavani')\n",
    "Family_members=tuple(siblings                                   #converting a list back to tuple\n",
    "print('Family members:',Family_members)"
   ]
  },
  {
   "cell_type": "code",
   "execution_count": null,
   "id": "64329136",
   "metadata": {},
   "outputs": [],
   "source": [
    "it_companies = {'Facebook', 'Google', 'Microsoft', 'Apple', 'IBM', 'Oracle', 'Amazon'} \n",
    "A = {19, 22, 24, 20, 25, 26}\n",
    "B = {19, 22, 20, 25, 26, 24, 28, 27}\n",
    "age = [22, 19, 24, 25, 26, 24, 25, 24]\n",
    "print('Length of the IT companies:',len(it_companies))              #Finding the length of the set it_companies\n",
    "it_companies.add('Twitter')                                         #Adding 'Twitter' to it_companies\n",
    "print(it_companies)  \n",
    "it_companies.update(['TCS','orkut'])                                #Insert multiple IT companies to set it_companies\n",
    "print(it_companies) \n",
    "it_companies.discard('TCS')                                         #Removing one of the companies from the set it_companies\n",
    "print(it_companies)\n",
    "# Discard is different from Remove as remove produces error if the given element is not available in the set \n",
    "# whereas Discard do not produce any error it just remains as it is.\n",
    "print('A Join B:',A.union(B))                                       #Joining A and B\n",
    "print('A intersection B:',A.intersection(B))                        #Finding A intersection B\n",
    "print('Is A subset of B? :',A.issubset(B))\n",
    "print('A disjoint set B? :',A.isdisjoint(B))\n",
    "print('B disjoint set A? :',B.isdisjoint(A))\n",
    "print('Join A with B :',A.union(B))\n",
    "print('Join B with A :',B.union(A))\n",
    "print('symmetric difference between A&B:', A.symmetric_difference(B))      #symmetric difference between A and B\n",
    "del A                                                               #Deleting A and B permanently\n",
    "del B\n",
    "print('length of ages list :',len(age))\n",
    "print('length of ages set :',len(set(age)))                         #comparing the length of the age list and the set\n"
   ]
  },
  {
   "cell_type": "code",
   "execution_count": null,
   "id": "f00df3a2",
   "metadata": {},
   "outputs": [],
   "source": [
    "import math                     \n",
    "radius=30;                                                      #Given radius=30\n",
    "_area_of_circle_=math.pi*radius**2                              #Area of circle\n",
    "print('Area of the circle:',_area_of_circle_) \n",
    "_circum_of_circle_=2*math.pi*radius                             #Circumference of circle                       \n",
    "print('Circumference of the circle:',_circum_of_circle_)\n",
    "input_radius=float(input('Please enter the radius:'))           #input radius\n",
    "Area=math.pi*input_radius**2       \n",
    "print('Area of the circle:',Area)"
   ]
  },
  {
   "cell_type": "code",
   "execution_count": null,
   "id": "1b07729c",
   "metadata": {},
   "outputs": [],
   "source": [
    "Given_string=\"I am a teacher and I love to inspire and teach people\"\n",
    "string_list=Given_string.split(' ')                #Using split methods\n",
    "print(string_list)\n",
    "words=set(string_list)\n",
    "unique_words={}\n",
    "for word in words:\n",
    "    unique_words[word]=string_list.count(word)     #finding Unique words\n",
    "print(\"Unique words: \")\n",
    "for word,count in unique_words.items():\n",
    "    if count==1:\n",
    "        print(word)"
   ]
  },
  {
   "cell_type": "code",
   "execution_count": null,
   "id": "0560349b",
   "metadata": {},
   "outputs": [],
   "source": [
    "print(\"Name\\t\\tAge\\tCountry\\t\\tCity\")                             #Using a tab escape sequence\n",
    "print('Asabeneh\\t250\\tFinland\\t\\tHelsinki')"
   ]
  },
  {
   "cell_type": "code",
   "execution_count": null,
   "id": "e0b51eda",
   "metadata": {},
   "outputs": [],
   "source": [
    "radius=10\n",
    "Area=float(3.14*radius**2)\n",
    "print(\"The area of a circle with radius {0} is {1} meters square.\".format(radius,Area))"
   ]
  },
  {
   "cell_type": "code",
   "execution_count": null,
   "id": "57c0664a",
   "metadata": {},
   "outputs": [],
   "source": [
    "N=int(input(\"Enter the number of students:\"))\n",
    "lb_kg=0.453592\n",
    "input_list=list(input(f\"Enter the {N} comma seperated values:\").split(','))\n",
    "print('Input List:',input_list)\n",
    "output=[]\n",
    "for i in range(N):\n",
    "    output.append(float(input_list[i])*lb_kg)\n",
    "print('Output :',output)"
   ]
  },
  {
   "cell_type": "code",
   "execution_count": null,
   "id": "b3cdfeac",
   "metadata": {},
   "outputs": [],
   "source": []
  }
 ],
 "metadata": {
  "kernelspec": {
   "display_name": "Python 3 (ipykernel)",
   "language": "python",
   "name": "python3"
  },
  "language_info": {
   "codemirror_mode": {
    "name": "ipython",
    "version": 3
   },
   "file_extension": ".py",
   "mimetype": "text/x-python",
   "name": "python",
   "nbconvert_exporter": "python",
   "pygments_lexer": "ipython3",
   "version": "3.9.13"
  }
 },
 "nbformat": 4,
 "nbformat_minor": 5
}
